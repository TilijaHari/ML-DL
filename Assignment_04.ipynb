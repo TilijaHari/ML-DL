{
 "cells": [
  {
   "cell_type": "markdown",
   "id": "66ed551e",
   "metadata": {},
   "source": [
    "1.1 Write a Python Program(with class concepts) to find the area of the triangle using the below\n",
    "formula.\n",
    "area = (s*(s-a)*(s-b)*(s-c)) ** 0.5\n",
    "Function to take the length of the sides of triangle from user should be defined in the parent\n",
    "class and function to calculate the area should be defined in subclass."
   ]
  },
  {
   "cell_type": "code",
   "execution_count": 1,
   "id": "559c1c1c",
   "metadata": {},
   "outputs": [
    {
     "name": "stdout",
     "output_type": "stream",
     "text": [
      "Please enter side a: 2\n",
      "Please enter side b: 3\n",
      "Please enter side c: 4\n",
      "Area of triangle is  2.9047375096555625 cm²\n"
     ]
    }
   ],
   "source": [
    "class Triangle:\n",
    "    def __init__(self):\n",
    "        self.a = float(input(\"Please enter side a: \"))\n",
    "        self.b = float(input(\"Please enter side b: \"))\n",
    "        self.c = float(input(\"Please enter side c: \"))\n",
    "\n",
    "class Area(Triangle):\n",
    "    def area(self):\n",
    "        s = (self.a + self.b + self.c) / 2\n",
    "        area = (s * (s - self.a)*(s - self.b)*(s - self.c)) ** 0.5\n",
    "        return area\n",
    "A = Area()\n",
    "print(\"Area of triangle is \",A.area(),\"cm\\u00b2\")"
   ]
  },
  {
   "cell_type": "markdown",
   "id": "139eebaf",
   "metadata": {},
   "source": [
    "1.2 Write a function filter_long_words() that takes a list of words and an integer n and returns\n",
    "the list of words that are longer than n."
   ]
  },
  {
   "cell_type": "code",
   "execution_count": 2,
   "id": "f1fb9374",
   "metadata": {},
   "outputs": [
    {
     "data": {
      "text/plain": [
       "['ineuron', 'krish']"
      ]
     },
     "execution_count": 2,
     "metadata": {},
     "output_type": "execute_result"
    }
   ],
   "source": [
    "n=4\n",
    "l=['ineuron','krish','sudh']\n",
    "list(filter(lambda x:len(x)>n,l))"
   ]
  },
  {
   "cell_type": "markdown",
   "id": "9c630012",
   "metadata": {},
   "source": [
    "2.1 Write a Python program using function concept that maps list of words into a list of integers\n",
    "representing the lengths of the corresponding words.\n",
    "Hint: If a list [ ab,cde,erty] is passed on to the python function output should come as [2,3,4]\n",
    "Here 2,3 and 4 are the lengths of the words in the list."
   ]
  },
  {
   "cell_type": "code",
   "execution_count": 3,
   "id": "c6a0e23b",
   "metadata": {},
   "outputs": [
    {
     "data": {
      "text/plain": [
       "[7, 5, 4]"
      ]
     },
     "execution_count": 3,
     "metadata": {},
     "output_type": "execute_result"
    }
   ],
   "source": [
    "l = ['ineuron', 'krish', 'sudh']\n",
    "list(map(lambda x:len(x),l))"
   ]
  },
  {
   "cell_type": "markdown",
   "id": "cc6efea0",
   "metadata": {},
   "source": [
    "2.2 Write a Python function which takes a character (i.e. a string of length 1) and returns True if\n",
    "it is a vowel, False otherwise."
   ]
  },
  {
   "cell_type": "code",
   "execution_count": 6,
   "id": "4c316346",
   "metadata": {},
   "outputs": [
    {
     "name": "stdout",
     "output_type": "stream",
     "text": [
      "Input your character s\n"
     ]
    },
    {
     "data": {
      "text/plain": [
       "False"
      ]
     },
     "execution_count": 6,
     "metadata": {},
     "output_type": "execute_result"
    }
   ],
   "source": [
    "def vowel(char):\n",
    "    l=['a','e','i','o','u']\n",
    "    if char in l:\n",
    "        return True\n",
    "    else:\n",
    "        return False\n",
    "vowel(input(\"Input your character \"))"
   ]
  },
  {
   "cell_type": "code",
   "execution_count": 7,
   "id": "3d739eba",
   "metadata": {},
   "outputs": [
    {
     "name": "stdout",
     "output_type": "stream",
     "text": [
      "Input your character o\n"
     ]
    },
    {
     "data": {
      "text/plain": [
       "True"
      ]
     },
     "execution_count": 7,
     "metadata": {},
     "output_type": "execute_result"
    }
   ],
   "source": [
    "def vowel(char):\n",
    "    l=['a','e','i','o','u']\n",
    "    if char in l:\n",
    "        return True\n",
    "    else:\n",
    "        return False\n",
    "vowel(input(\"Input your character \"))"
   ]
  },
  {
   "cell_type": "code",
   "execution_count": null,
   "id": "af1d174f",
   "metadata": {},
   "outputs": [],
   "source": []
  }
 ],
 "metadata": {
  "kernelspec": {
   "display_name": "Python 3",
   "language": "python",
   "name": "python3"
  },
  "language_info": {
   "codemirror_mode": {
    "name": "ipython",
    "version": 3
   },
   "file_extension": ".py",
   "mimetype": "text/x-python",
   "name": "python",
   "nbconvert_exporter": "python",
   "pygments_lexer": "ipython3",
   "version": "3.8.8"
  }
 },
 "nbformat": 4,
 "nbformat_minor": 5
}
