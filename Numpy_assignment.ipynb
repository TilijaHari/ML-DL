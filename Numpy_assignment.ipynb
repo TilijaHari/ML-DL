{
 "cells": [
  {
   "cell_type": "markdown",
   "id": "ad09d09a",
   "metadata": {},
   "source": [
    "## Write a function so that the columns of the output matrix are powers of the input vector.\n",
    "The order of the powers is determined by the increasing boolean argument. Specifically, when increasing is False, the i-th output column is the input vector raised element-wise to the power of N - i - 1.\n",
    "HINT: Such a matrix with a geometric progression in each row is named for Alexandre-\n",
    "Theophile Vandermonde."
   ]
  },
  {
   "cell_type": "code",
   "execution_count": 1,
   "id": "1b1d95b5",
   "metadata": {},
   "outputs": [],
   "source": [
    "import numpy as np"
   ]
  },
  {
   "cell_type": "code",
   "execution_count": 2,
   "id": "5177c8b7",
   "metadata": {},
   "outputs": [],
   "source": [
    "def alex(Vector, n, increasing = False):\n",
    "    if increasing:\n",
    "        Matrix = np.matrix([x**i for x in Vector for i in range(n)]).reshape(Vector.size, n)\n",
    "    else:\n",
    "        Matrix = np.matrix([x**(n-i-1) for x in Vector for i in range(n)]).reshape(Vector.size, n)\n",
    "    return Matrix"
   ]
  },
  {
   "cell_type": "code",
   "execution_count": 3,
   "id": "38021416",
   "metadata": {},
   "outputs": [],
   "source": [
    "Vector = np.array([1, 3, 5, 7, 9])\n",
    "n = 5"
   ]
  },
  {
   "cell_type": "code",
   "execution_count": 4,
   "id": "72a2a88f",
   "metadata": {},
   "outputs": [
    {
     "data": {
      "text/plain": [
       "matrix([[   1,    1,    1,    1,    1],\n",
       "        [   1,    3,    9,   27,   81],\n",
       "        [   1,    5,   25,  125,  625],\n",
       "        [   1,    7,   49,  343, 2401],\n",
       "        [   1,    9,   81,  729, 6561]])"
      ]
     },
     "execution_count": 4,
     "metadata": {},
     "output_type": "execute_result"
    }
   ],
   "source": [
    "Mtarix_asc = alex(Vector, n, True)\n",
    "Mtarix_asc"
   ]
  },
  {
   "cell_type": "code",
   "execution_count": 5,
   "id": "6165398b",
   "metadata": {},
   "outputs": [
    {
     "data": {
      "text/plain": [
       "matrix([[   1,    1,    1,    1,    1],\n",
       "        [  81,   27,    9,    3,    1],\n",
       "        [ 625,  125,   25,    5,    1],\n",
       "        [2401,  343,   49,    7,    1],\n",
       "        [6561,  729,   81,    9,    1]])"
      ]
     },
     "execution_count": 5,
     "metadata": {},
     "output_type": "execute_result"
    }
   ],
   "source": [
    "Mtarix_desc = alex(Vector, n, False)\n",
    "Mtarix_desc"
   ]
  },
  {
   "cell_type": "markdown",
   "id": "ce897501",
   "metadata": {},
   "source": [
    "## Write a function to find moving average in an array over a window:\n",
    "Test it over [3, 5, 7, 2, 8, 10, 11, 65, 72, 81, 99, 100, 150] and window of 3"
   ]
  },
  {
   "cell_type": "code",
   "execution_count": 6,
   "id": "a3adcd7c",
   "metadata": {},
   "outputs": [],
   "source": [
    "def movingAverage(input, x):\n",
    "    a = 1\n",
    "    output = np.convolve(input, np.ones(x), 'valid') / x\n",
    "    for i in output:\n",
    "        print(\"y{0} = {1:.2f}\".format(a, i))\n",
    "        a += 1"
   ]
  },
  {
   "cell_type": "code",
   "execution_count": 7,
   "id": "d2513d7b",
   "metadata": {},
   "outputs": [
    {
     "name": "stdout",
     "output_type": "stream",
     "text": [
      "y1 = 5.00\n",
      "y2 = 4.67\n",
      "y3 = 5.67\n",
      "y4 = 6.67\n",
      "y5 = 9.67\n",
      "y6 = 28.67\n",
      "y7 = 49.33\n",
      "y8 = 72.67\n",
      "y9 = 84.00\n",
      "y10 = 93.33\n",
      "y11 = 116.33\n"
     ]
    }
   ],
   "source": [
    "input = np.array([3, 5, 7, 2, 8, 10, 11, 65, 72, 81, 99, 100, 150])\n",
    "x = 3\n",
    "movingAverage(input, x)\n"
   ]
  },
  {
   "cell_type": "code",
   "execution_count": null,
   "id": "0569b052",
   "metadata": {},
   "outputs": [],
   "source": []
  }
 ],
 "metadata": {
  "kernelspec": {
   "display_name": "Python 3",
   "language": "python",
   "name": "python3"
  },
  "language_info": {
   "codemirror_mode": {
    "name": "ipython",
    "version": 3
   },
   "file_extension": ".py",
   "mimetype": "text/x-python",
   "name": "python",
   "nbconvert_exporter": "python",
   "pygments_lexer": "ipython3",
   "version": "3.8.8"
  }
 },
 "nbformat": 4,
 "nbformat_minor": 5
}
