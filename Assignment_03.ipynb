{
 "cells": [
  {
   "cell_type": "markdown",
   "id": "ea084ae6",
   "metadata": {},
   "source": [
    "1.1 Write a Python Program to implement your own myreduce() function which works exactly like Python's built-in function reduce()"
   ]
  },
  {
   "cell_type": "code",
   "execution_count": 1,
   "id": "819d4bff",
   "metadata": {},
   "outputs": [
    {
     "name": "stdout",
     "output_type": "stream",
     "text": [
      "My Reduce Output is: 5488000\n"
     ]
    }
   ],
   "source": [
    "def myreduce(func, values):\n",
    "    result = values[0]\n",
    "    for i in values[1:]:\n",
    "        result = func(result, i)\n",
    "    return result\n",
    "\n",
    "def func(x,y):\n",
    "    return x*y\n",
    "\n",
    "list0 = [14,20,1,8,25,98]\n",
    "print(f\"My Reduce Output is: {myreduce(func, list0)}\")"
   ]
  },
  {
   "cell_type": "markdown",
   "id": "47506a01",
   "metadata": {},
   "source": [
    "1.2 Write a Python program to implement your own myfilter() function which works exactly like Python's built-in function filter()"
   ]
  },
  {
   "cell_type": "code",
   "execution_count": 5,
   "id": "d59871d6",
   "metadata": {},
   "outputs": [
    {
     "name": "stdout",
     "output_type": "stream",
     "text": [
      "My Filter Output is: [20, 25]\n"
     ]
    }
   ],
   "source": [
    "def myfilter(func, values):\n",
    "    result = list()\n",
    "    for i in values:\n",
    "        if func(i):\n",
    "            result.append(i)\n",
    "    return result\n",
    "\n",
    "def func(x):\n",
    "    if x % 5 == 0:\n",
    "        return True\n",
    "    else:\n",
    "        return False\n",
    "\n",
    "l0 = [14,20,1,8,25,98]\n",
    "print(f\"My Filter Output is: {myfilter(func, l0)}\")"
   ]
  },
  {
   "cell_type": "markdown",
   "id": "6d6a2ace",
   "metadata": {},
   "source": [
    "2. Implement List comprehension to produce the following lists.\n",
    "Write List comprehensions to produce the following lists"
   ]
  },
  {
   "cell_type": "markdown",
   "id": "39f1f7b4",
   "metadata": {},
   "source": [
    " ['x', 'xx', 'xxx', 'xxxx', 'y', 'yy', 'yyy', 'yyyy', 'z', 'zz', 'zzz', 'zzzz']"
   ]
  },
  {
   "cell_type": "code",
   "execution_count": 6,
   "id": "fb2f35d5",
   "metadata": {},
   "outputs": [
    {
     "data": {
      "text/plain": [
       "['x', 'xx', 'xxx', 'xxxx', 'y', 'yy', 'yyy', 'yyyy', 'z', 'zz', 'zzz', 'zzzz']"
      ]
     },
     "execution_count": 6,
     "metadata": {},
     "output_type": "execute_result"
    }
   ],
   "source": [
    "list = ['x','y','z']\n",
    "[i*j for i in list for j in range(1,5)]"
   ]
  },
  {
   "cell_type": "markdown",
   "id": "ab283409",
   "metadata": {},
   "source": [
    "['x', 'y', 'z', 'xx', 'yy', 'zz', 'xxx', 'yyy', 'zzz', 'xxxx', 'yyyy', 'zzzz']"
   ]
  },
  {
   "cell_type": "code",
   "execution_count": 7,
   "id": "5754d53d",
   "metadata": {},
   "outputs": [
    {
     "data": {
      "text/plain": [
       "['x', 'y', 'z', 'xx', 'yy', 'zz', 'xxx', 'yyy', 'zzz', 'xxxx', 'yyyy', 'zzzz']"
      ]
     },
     "execution_count": 7,
     "metadata": {},
     "output_type": "execute_result"
    }
   ],
   "source": [
    "[i*j for j in range(1,5) for i in list]"
   ]
  },
  {
   "cell_type": "markdown",
   "id": "b097ecb9",
   "metadata": {},
   "source": [
    "[[2], [3], [4], [3], [4], [5], [4], [5], [6]]"
   ]
  },
  {
   "cell_type": "code",
   "execution_count": 9,
   "id": "c8e6c943",
   "metadata": {},
   "outputs": [
    {
     "data": {
      "text/plain": [
       "[[2], [3], [4], [3], [4], [5], [4], [5], [6]]"
      ]
     },
     "execution_count": 9,
     "metadata": {},
     "output_type": "execute_result"
    }
   ],
   "source": [
    "[[a + b] for b in range(3) for a in range(2, 5)]\n",
    "\n"
   ]
  },
  {
   "cell_type": "markdown",
   "id": "fe8b9801",
   "metadata": {},
   "source": [
    "[[2, 3, 4, 5], [3, 4, 5, 6], [4, 5, 6, 7], [5, 6, 7, 8]]"
   ]
  },
  {
   "cell_type": "code",
   "execution_count": 10,
   "id": "b7b50753",
   "metadata": {},
   "outputs": [
    {
     "data": {
      "text/plain": [
       "[[2, 3, 4, 5], [3, 4, 5, 6], [4, 5, 6, 7], [5, 6, 7, 8]]"
      ]
     },
     "execution_count": 10,
     "metadata": {},
     "output_type": "execute_result"
    }
   ],
   "source": [
    "[[x+y for y in range(2, 6)] for x in range(4)]"
   ]
  },
  {
   "cell_type": "markdown",
   "id": "ef5d36b5",
   "metadata": {},
   "source": [
    "[(1, 1), (2, 1), (3, 1), (1, 2), (2, 2), (3, 2), (1, 3), (2, 3), (3, 3)]"
   ]
  },
  {
   "cell_type": "code",
   "execution_count": 12,
   "id": "edb563c8",
   "metadata": {},
   "outputs": [
    {
     "data": {
      "text/plain": [
       "[(1, 1), (2, 1), (3, 1), (1, 2), (2, 2), (3, 2), (1, 3), (2, 3), (3, 3)]"
      ]
     },
     "execution_count": 12,
     "metadata": {},
     "output_type": "execute_result"
    }
   ],
   "source": [
    "[(x, y) for y in range(1, 4) for x in range(1, 4)]"
   ]
  },
  {
   "cell_type": "code",
   "execution_count": null,
   "id": "9374779d",
   "metadata": {},
   "outputs": [],
   "source": []
  }
 ],
 "metadata": {
  "kernelspec": {
   "display_name": "Python 3",
   "language": "python",
   "name": "python3"
  },
  "language_info": {
   "codemirror_mode": {
    "name": "ipython",
    "version": 3
   },
   "file_extension": ".py",
   "mimetype": "text/x-python",
   "name": "python",
   "nbconvert_exporter": "python",
   "pygments_lexer": "ipython3",
   "version": "3.8.8"
  }
 },
 "nbformat": 4,
 "nbformat_minor": 5
}
